{
  "nbformat": 4,
  "nbformat_minor": 0,
  "metadata": {
    "colab": {
      "name": "GradientDescent_NN.ipynb",
      "provenance": [],
      "authorship_tag": "ABX9TyOslVxOvvq6v/xk6EvUj4n8",
      "include_colab_link": true
    },
    "kernelspec": {
      "name": "python3",
      "display_name": "Python 3"
    }
  },
  "cells": [
    {
      "cell_type": "markdown",
      "metadata": {
        "id": "view-in-github",
        "colab_type": "text"
      },
      "source": [
        "<a href=\"https://colab.research.google.com/github/mvdheram/DeepLearning-Notebooks/blob/main/GradientDescent_NN.ipynb\" target=\"_parent\"><img src=\"https://colab.research.google.com/assets/colab-badge.svg\" alt=\"Open In Colab\"/></a>"
      ]
    },
    {
      "cell_type": "code",
      "metadata": {
        "id": "sg2w0SsWVT3g"
      },
      "source": [
        "import numpy as np"
      ],
      "execution_count": null,
      "outputs": []
    },
    {
      "cell_type": "code",
      "metadata": {
        "id": "Ll5IqxqEXg6i"
      },
      "source": [
        "input_data = np.array([3,4])\n",
        "weights = np.array([1,2])\n",
        "target = 6\n",
        "learning_rate = [0.01,1,0.00001]"
      ],
      "execution_count": null,
      "outputs": []
    },
    {
      "cell_type": "code",
      "metadata": {
        "id": "KA-WjYSiXy4Y",
        "outputId": "6833cee8-7dba-4dd0-830f-49e9f0be9862",
        "colab": {
          "base_uri": "https://localhost:8080/",
          "height": 34
        }
      },
      "source": [
        "prediction = np.dot(weights,input_data)\n",
        "print(prediction)"
      ],
      "execution_count": null,
      "outputs": [
        {
          "output_type": "stream",
          "text": [
            "11\n"
          ],
          "name": "stdout"
        }
      ]
    },
    {
      "cell_type": "markdown",
      "metadata": {
        "id": "igL1nPrcVyCo"
      },
      "source": [
        "Error without Loss function:\n",
        "\n",
        "    Loss Function : Loss of single training set.\n",
        "\n",
        "    Cost Function : Loss w.r.t batch."
      ]
    },
    {
      "cell_type": "code",
      "metadata": {
        "id": "G5TTsPG8Ugll",
        "outputId": "d612ab79-e65b-42e2-ed41-1cddf401452a",
        "colab": {
          "base_uri": "https://localhost:8080/",
          "height": 34
        }
      },
      "source": [
        "Error = prediction - target\n",
        "print('Error ( prediction - target ): ', error)"
      ],
      "execution_count": null,
      "outputs": [
        {
          "output_type": "stream",
          "text": [
            "Error ( prediction - target ):  5\n"
          ],
          "name": "stdout"
        }
      ]
    },
    {
      "cell_type": "code",
      "metadata": {
        "id": "Y_hf_Zbt26_s"
      },
      "source": [
        "def tanh_activation(x,derivative = False):\n",
        "  if not derivative:\n",
        "    return np.tanh(x)\n",
        "  else:\n",
        "    return 1 - np.power(tanh_activation(x),2)\n",
        "\n",
        "def sigmoid_activation(x,derivative = False):\n",
        "  if not derivative:\n",
        "    return 1.0 / (1 + np.exp(-1 * x))\n",
        "  else:\n",
        "    return sigmoid_activation(x) * (1.0 - sigmoid_activation(x))\n",
        "\n",
        "def relu(x,derivative = False):\n",
        "  if not derivative:\n",
        "    return np.maximum(x, 0)\n",
        "  else:\n",
        "    return 1 if x > 0 else 0"
      ],
      "execution_count": null,
      "outputs": []
    },
    {
      "cell_type": "markdown",
      "metadata": {
        "id": "WLH9KPP8T0Gk"
      },
      "source": [
        "Slope of Activation Function"
      ]
    },
    {
      "cell_type": "code",
      "metadata": {
        "id": "_VQTZ0RaM5rL",
        "outputId": "aa96a878-eaf4-45fd-8887-0a54ca498155",
        "colab": {
          "base_uri": "https://localhost:8080/",
          "height": 34
        }
      },
      "source": [
        "prediction_activation['tanh_activation'] = tanh_activation(prediction,True)\n",
        "prediction_activation['sigmoid_activation'] = sigmoid_activation(prediction,True)\n",
        "prediction_activation['relu_activation'] = relu(prediction,True)\n",
        "print(prediction_activation)"
      ],
      "execution_count": null,
      "outputs": [
        {
          "output_type": "stream",
          "text": [
            "{'tanh_activation': 1.115787240379973e-09, 'sigmoid_activation': 1.670114291046157e-05, 'relu_activation': 1}\n"
          ],
          "name": "stdout"
        }
      ]
    },
    {
      "cell_type": "code",
      "metadata": {
        "id": "hzU266eoeacH"
      },
      "source": [
        "slope_loss_function = 2 * Error\n",
        "\n",
        "gradients ={}\n",
        "for key in prediction_activation:\n",
        "  gradients[key] = slope_loss_function * input_data * prediction_activation[key]\n"
      ],
      "execution_count": null,
      "outputs": []
    },
    {
      "cell_type": "code",
      "metadata": {
        "id": "lGkWfvVfZ1fI",
        "outputId": "e81cbf62-36e5-4a7a-80ec-ec824a45c204",
        "colab": {
          "base_uri": "https://localhost:8080/",
          "height": 67
        }
      },
      "source": [
        "for i,k in enumerate(gradients):\n",
        "  weights_new = weights - gradients[k] * learning_rate[i]\n",
        "  prediction_updated = np.dot(weights_new,input_data)\n",
        "  error_updated = prediction_updated - target\n",
        "  print('error updated with learning rate(', str(learning_rate[i]) ,') and activation funtion',k, ':', error_updated)"
      ],
      "execution_count": null,
      "outputs": [
        {
          "output_type": "stream",
          "text": [
            "error updated with learning rate( 0.01 ) and activation funtion tanh_activation : 4.999999997210532\n",
            "error updated with learning rate( 1 ) and activation funtion sigmoid_activation : 4.995824714272384\n",
            "error updated with learning rate( 1e-05 ) and activation funtion relu_activation : 4.9975000000000005\n"
          ],
          "name": "stdout"
        }
      ]
    },
    {
      "cell_type": "code",
      "metadata": {
        "id": "66FILYSuvpUX",
        "outputId": "a2b8a5ba-ffda-4073-a8a2-bbc5227c58ab",
        "colab": {
          "base_uri": "https://localhost:8080/",
          "height": 168
        }
      },
      "source": [
        "for i in learning_rate:\n",
        "  for key in gradients:\n",
        "    weights_new = weights - gradients[key] * i\n",
        "    prediction_updated = np.dot(weights_new,input_data)\n",
        "    error_updated = prediction_updated - target\n",
        "    print('error updated with learning rate(', str(i) ,') and activation funtion',key, ':', error_updated)"
      ],
      "execution_count": null,
      "outputs": [
        {
          "output_type": "stream",
          "text": [
            "error updated with learning rate( 0.01 ) and activation funtion tanh_activation : 4.999999997210532\n",
            "error updated with learning rate( 0.01 ) and activation funtion sigmoid_activation : 4.9999582471427235\n",
            "error updated with learning rate( 0.01 ) and activation funtion relu_activation : 2.5\n",
            "error updated with learning rate( 1 ) and activation funtion tanh_activation : 4.9999997210531895\n",
            "error updated with learning rate( 1 ) and activation funtion sigmoid_activation : 4.995824714272384\n",
            "error updated with learning rate( 1 ) and activation funtion relu_activation : -245\n",
            "error updated with learning rate( 1e-05 ) and activation funtion tanh_activation : 4.999999999997211\n",
            "error updated with learning rate( 1e-05 ) and activation funtion sigmoid_activation : 4.999999958247143\n",
            "error updated with learning rate( 1e-05 ) and activation funtion relu_activation : 4.9975000000000005\n"
          ],
          "name": "stdout"
        }
      ]
    },
    {
      "cell_type": "code",
      "metadata": {
        "id": "92tvWEschWVi"
      },
      "source": [
        ""
      ],
      "execution_count": null,
      "outputs": []
    }
  ]
}