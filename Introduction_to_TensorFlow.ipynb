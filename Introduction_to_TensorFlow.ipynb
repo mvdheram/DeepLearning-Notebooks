{
  "nbformat": 4,
  "nbformat_minor": 0,
  "metadata": {
    "colab": {
      "name": "Introduction to TensorFlow.ipynb",
      "provenance": [],
      "collapsed_sections": [],
      "authorship_tag": "ABX9TyOsfQ7R5IwEjskjOmo7Xp8i",
      "include_colab_link": true
    },
    "kernelspec": {
      "name": "python3",
      "display_name": "Python 3"
    }
  },
  "cells": [
    {
      "cell_type": "markdown",
      "metadata": {
        "id": "view-in-github",
        "colab_type": "text"
      },
      "source": [
        "<a href=\"https://colab.research.google.com/github/mvdheram/DeepLearning-Notebooks/blob/main/Introduction_to_TensorFlow.ipynb\" target=\"_parent\"><img src=\"https://colab.research.google.com/assets/colab-badge.svg\" alt=\"Open In Colab\"/></a>"
      ]
    },
    {
      "cell_type": "markdown",
      "metadata": {
        "id": "cwXZ26IygxJr"
      },
      "source": [
        "# Tensor\n",
        "\n",
        "* Generalization of vectors and matrices to potentially higer dimentions.\n",
        "\n",
        "* Dimentions or axes can be arbitrary (>3).\n",
        "\n"
      ]
    },
    {
      "cell_type": "code",
      "metadata": {
        "id": "A23kkQD1NHAQ",
        "outputId": "70c91422-c1fd-4a8e-cb4c-60ea9fa6d53f",
        "colab": {
          "base_uri": "https://localhost:8080/",
          "height": 50
        }
      },
      "source": [
        "# Defining tensors in tensorflow\n",
        "\n",
        "import tensorflow as tf\n",
        "\n",
        "# 0D Tensor\n",
        "d0 = tf.ones((1,))\n",
        "\n",
        "# 1D Tensor\n",
        "d1 = tf.ones((2,2))\n",
        "\n",
        "# 3D Tensor\n",
        "d3 = tf.ones((1,2,3)) # 2 rows, 3 columns of 1 tensor (perspective of breadth face of cube) / 1x2 of 3 tensors (perspective of length face of cube)\n",
        "\n",
        "print(d3.numpy())"
      ],
      "execution_count": null,
      "outputs": [
        {
          "output_type": "stream",
          "text": [
            "[[[1. 1. 1.]\n",
            "  [1. 1. 1.]]]\n"
          ],
          "name": "stdout"
        }
      ]
    },
    {
      "cell_type": "markdown",
      "metadata": {
        "id": "ZUtmMZrVmedX"
      },
      "source": [
        "# Defining constans in TensorFlow\n",
        "\n",
        "* Simplest category of tensor.\n",
        "  * Immutable.\n",
        "  * Can have higher dimentions.\n"
      ]
    },
    {
      "cell_type": "code",
      "metadata": {
        "id": "wApTvfiKlOyf",
        "outputId": "7b3cf035-d92b-46fb-b55d-13c4ba7f7942",
        "colab": {
          "base_uri": "https://localhost:8080/",
          "height": 134
        }
      },
      "source": [
        "from tensorflow import constant\n",
        "\n",
        "# 2x3 constant of 3's\n",
        "a = constant(3, shape=[2,3])\n",
        "\n",
        "# 2x2 constant constructed from 1D tensor\n",
        "b = constant([1,2,3,4,],shape=[2,2])\n",
        "\n",
        "print(a , \"\\n \\n\", b)"
      ],
      "execution_count": null,
      "outputs": [
        {
          "output_type": "stream",
          "text": [
            "tf.Tensor(\n",
            "[[3 3 3]\n",
            " [3 3 3]], shape=(2, 3), dtype=int32) \n",
            " \n",
            " tf.Tensor(\n",
            "[[1 2]\n",
            " [3 4]], shape=(2, 2), dtype=int32)\n"
          ],
          "name": "stdout"
        }
      ]
    },
    {
      "cell_type": "markdown",
      "metadata": {
        "id": "ierd06afoh1I"
      },
      "source": [
        "# Defining and initializing variables\n",
        "\n",
        "* Shared, persistent and modifiable.\n",
        "\n",
        "* Data type and shape are fixed during initialization.\n"
      ]
    },
    {
      "cell_type": "code",
      "metadata": {
        "id": "E1DrSZC0oG3M",
        "outputId": "8cf40086-32f5-4dc1-e4d1-5ff51213f9d9",
        "colab": {
          "base_uri": "https://localhost:8080/",
          "height": 87
        }
      },
      "source": [
        "import tensorflow as tf\n",
        "\n",
        "a0 = tf.Variable([1,2,3,4,5,6], dtype=tf.float32)\n",
        "a1 = tf.Variable([1,2,3,4,5,6], dtype=tf.int16)  \n",
        "\n",
        "print(a0 , \"\\n \\n\", a1)"
      ],
      "execution_count": null,
      "outputs": [
        {
          "output_type": "stream",
          "text": [
            "<tf.Variable 'Variable:0' shape=(6,) dtype=float32, numpy=array([1., 2., 3., 4., 5., 6.], dtype=float32)> \n",
            " \n",
            " <tf.Variable 'Variable:0' shape=(6,) dtype=int16, numpy=array([1, 2, 3, 4, 5, 6], dtype=int16)>\n"
          ],
          "name": "stdout"
        }
      ]
    },
    {
      "cell_type": "markdown",
      "metadata": {
        "id": "QRlleTI6ynMG"
      },
      "source": [
        "# Basic Operations in TF\n",
        "\n",
        "* Computation based on graphs. \n",
        "* TF graph contains edges and nodes\n",
        "  *  Edges = tensors\n",
        "  * Nodes = operations\n",
        "  \n"
      ]
    },
    {
      "cell_type": "markdown",
      "metadata": {
        "id": "we6Asxg4zU78"
      },
      "source": [
        "## Addition operator\n",
        "\n",
        "* `add()` operation performs ***element-wise addition*** with two tensors.\n",
        "\n",
        "* Can be performed using `+`.\n",
        "\n",
        "**Condition** : Tensors should have **same shape.**\n",
        "\n"
      ]
    },
    {
      "cell_type": "code",
      "metadata": {
        "id": "7hYgKybCplWB",
        "outputId": "dfb4c180-113b-45ae-ea37-b7775a4ca1e0",
        "colab": {
          "base_uri": "https://localhost:8080/",
          "height": 134
        }
      },
      "source": [
        "from tensorflow import constant, add\n",
        "\n",
        "\n",
        "# 0D tensors\n",
        "a0 = constant([1])\n",
        "b0 = constant([2])\n",
        "\n",
        "# 1D tensors\n",
        "a1 = constant([1,2])\n",
        "b1 = constant([3,4])\n",
        "\n",
        "# 2D tensors\n",
        "a2 = constant([[1,2],[3,4]])\n",
        "b2 = constant([[5,6], [7,8]]) \n",
        "\n",
        "# Scalar addition \n",
        "c0 = add(a0,b0)\n",
        "\n",
        "# Vector addition\n",
        "c1 = add(a1,b1)\n",
        "\n",
        "# Matrix addition\n",
        "c2 = add(a2,b2) \n",
        "\n",
        "print(c0 , \"\\n \\n\", c1 ,\"\\n \\n\", c2)"
      ],
      "execution_count": null,
      "outputs": [
        {
          "output_type": "stream",
          "text": [
            "tf.Tensor([3], shape=(1,), dtype=int32) \n",
            " \n",
            " tf.Tensor([4 6], shape=(2,), dtype=int32) \n",
            " \n",
            " tf.Tensor(\n",
            "[[ 6  8]\n",
            " [10 12]], shape=(2, 2), dtype=int32)\n"
          ],
          "name": "stdout"
        }
      ]
    },
    {
      "cell_type": "markdown",
      "metadata": {
        "id": "Xx66zAhK2GVp"
      },
      "source": [
        "## Multiply Operation\n",
        "\n",
        "Element - wise multiplication :\n",
        "\n",
        "* **Condition** : Tensors should have **same shape.**\n",
        "\n",
        "* Performed using `multiply()`\n",
        "\n",
        "Matrix multiplication :\n",
        "\n",
        "* **Condition** : Number of **coumns of `a`** must be **equal to** number of **rows of `b`**\n",
        "\n",
        "* Performed using `matmul(a,b)`\n",
        "\n",
        "\n"
      ]
    },
    {
      "cell_type": "code",
      "metadata": {
        "id": "cNo9dpN2zbud",
        "outputId": "e4743b7f-17e4-4e7c-d9b5-73d8baf30462",
        "colab": {
          "base_uri": "https://localhost:8080/",
          "height": 101
        }
      },
      "source": [
        "from tensorflow import ones, matmul, multiply\n",
        "\n",
        "# A scalar\n",
        "a0 = ones(1)\n",
        "\n",
        "# 3x1 vector of ones\n",
        "a31 = ones([3,1])\n",
        "\n",
        "# 3x4 vector of ones\n",
        "a34 = ones([3,4])\n",
        "\n",
        "# 4x3 vector of ones\n",
        "a43 = ones([4,3])\n",
        "\n",
        "# Multiplication element wise\n",
        "print(multiply(a0,a0))\n",
        "\n",
        "# Matrix multiplication (matmul(a,b) = columns(a) == rows(b))\n",
        "print(matmul(a34,a43))"
      ],
      "execution_count": null,
      "outputs": [
        {
          "output_type": "stream",
          "text": [
            "tf.Tensor([1.], shape=(1,), dtype=float32)\n",
            "tf.Tensor(\n",
            "[[4. 4. 4.]\n",
            " [4. 4. 4.]\n",
            " [4. 4. 4.]], shape=(3, 3), dtype=float32)\n"
          ],
          "name": "stdout"
        }
      ]
    },
    {
      "cell_type": "markdown",
      "metadata": {
        "id": "7GIUTLV-5g9f"
      },
      "source": [
        "## Summation over tensor dimentions\n",
        "\n",
        "* Performed using `reduce_sum()` operator.\n",
        "  * `reduce_sum(a)` sums over all dimentions of **`a`**.\n",
        "  * `reduce_sum(a,i)` sums over dimention **`i`**.  "
      ]
    },
    {
      "cell_type": "code",
      "metadata": {
        "id": "xCEY120t4u2m",
        "outputId": "f86fa436-369b-49c4-8f82-262249cdc57e",
        "colab": {
          "base_uri": "https://localhost:8080/",
          "height": 554
        }
      },
      "source": [
        "from tensorflow import ones, reduce_sum\n",
        "\n",
        "# 2x3x4 tensor of ones\n",
        "a = ones([3,4,4])\n",
        "\n",
        "# Sum over all dimentions\n",
        "b = reduce_sum(a)\n",
        "\n",
        "# Sum over dimentions of 0,1,2\n",
        "b0 = reduce_sum(a,0) # sum up element wise for tensors\n",
        "b1 = reduce_sum(a,1) # sum up element wise rows of tensor \n",
        "b2 = reduce_sum(a,2) # sum up element wise columns of tensor\n",
        "\n",
        "print(a)\n",
        "print(b, \"\\n \\n\", b0, \"\\n \\n\",b1, \"\\n \\n\",b2)"
      ],
      "execution_count": null,
      "outputs": [
        {
          "output_type": "stream",
          "text": [
            "tf.Tensor(\n",
            "[[[1. 1. 1. 1.]\n",
            "  [1. 1. 1. 1.]\n",
            "  [1. 1. 1. 1.]\n",
            "  [1. 1. 1. 1.]]\n",
            "\n",
            " [[1. 1. 1. 1.]\n",
            "  [1. 1. 1. 1.]\n",
            "  [1. 1. 1. 1.]\n",
            "  [1. 1. 1. 1.]]\n",
            "\n",
            " [[1. 1. 1. 1.]\n",
            "  [1. 1. 1. 1.]\n",
            "  [1. 1. 1. 1.]\n",
            "  [1. 1. 1. 1.]]], shape=(3, 4, 4), dtype=float32)\n",
            "tf.Tensor(48.0, shape=(), dtype=float32) \n",
            " \n",
            " tf.Tensor(\n",
            "[[3. 3. 3. 3.]\n",
            " [3. 3. 3. 3.]\n",
            " [3. 3. 3. 3.]\n",
            " [3. 3. 3. 3.]], shape=(4, 4), dtype=float32) \n",
            " \n",
            " tf.Tensor(\n",
            "[[4. 4. 4. 4.]\n",
            " [4. 4. 4. 4.]\n",
            " [4. 4. 4. 4.]], shape=(3, 4), dtype=float32) \n",
            " \n",
            " tf.Tensor(\n",
            "[[4. 4. 4. 4.]\n",
            " [4. 4. 4. 4.]\n",
            " [4. 4. 4. 4.]], shape=(3, 4), dtype=float32)\n"
          ],
          "name": "stdout"
        }
      ]
    },
    {
      "cell_type": "markdown",
      "metadata": {
        "id": "g6ZGOLiM5IvT"
      },
      "source": [
        "# Advanced Operations"
      ]
    },
    {
      "cell_type": "markdown",
      "metadata": {
        "id": "v47CQJ6f-S8C"
      },
      "source": [
        "## Gradient (slope)\n",
        "\n",
        "* `gradient()` Slope of a function at a given point.\n",
        "  * Slope / gradient of function is vector of partial derivative w.r.t dimentions(x,y..).\n",
        "\n",
        "* Used to **find the minimum** (loss function /cost function) or **maximum** (objective function) of a function ( squiggly  or straight line formed by function eg. y= x^2).\n",
        "\n",
        "* Much of differentiation will be handled by high level API's."
      ]
    },
    {
      "cell_type": "code",
      "metadata": {
        "id": "I7vrmHDm6bwt",
        "outputId": "4dc5ca14-b361-4ba8-f730-e8986362ca23",
        "colab": {
          "base_uri": "https://localhost:8080/",
          "height": 34
        }
      },
      "source": [
        "import tensorflow as tf\n",
        "\n",
        "x = tf.Variable(-1.0) # Variable x initialized to -1.0\n",
        "\n",
        "with tf.GradientTape() as tape: # Instance of gradient tape (Record operation for automatic differentiation)\n",
        "  tape.watch(x) \n",
        "  y = tf.multiply(x,x) # Function y = x^2, compute rate of change of 'y' w.r.t 'x'\n",
        "\n",
        "g = tape.gradient(y,x) # gradient of 'y' w.r.t 'x' =-1.0\n",
        "print(g.numpy()) \n"
      ],
      "execution_count": null,
      "outputs": [
        {
          "output_type": "stream",
          "text": [
            "-2.0\n"
          ],
          "name": "stdout"
        }
      ]
    },
    {
      "cell_type": "code",
      "metadata": {
        "id": "pF21PJsvF1JH",
        "outputId": "8e41cae5-b199-41a8-9641-dea6f37315d1",
        "colab": {
          "base_uri": "https://localhost:8080/",
          "height": 202
        }
      },
      "source": [
        "import tensorflow as tf\n",
        "\n",
        "gray = tf.random.uniform([2,2],maxval = 255, dtype ='int32') # randon 2x2 matrix with max value 255\n",
        "\n",
        "color = tf.random.uniform([2,2,3], maxval=255,dtype='int32') # 2x2 of 3 tensors with maxval 255\n",
        "\n",
        "# Reshape grayscale image to 4,1\n",
        "gray = tf.reshape(gray,[2*2,1])\n",
        "\n",
        "# Reshape color image to 4,3 i.e reshape columns to rows \n",
        "color = tf.reshape(color,[2*2,3])\n",
        "\n",
        "print(gray, \"\\n \\n\", color)"
      ],
      "execution_count": null,
      "outputs": [
        {
          "output_type": "stream",
          "text": [
            "tf.Tensor(\n",
            "[[ 45]\n",
            " [ 43]\n",
            " [145]\n",
            " [118]], shape=(4, 1), dtype=int32) \n",
            " \n",
            " tf.Tensor(\n",
            "[[205  37  27]\n",
            " [139 184 237]\n",
            " [226  57  84]\n",
            " [  8 181 129]], shape=(4, 3), dtype=int32)\n"
          ],
          "name": "stdout"
        }
      ]
    },
    {
      "cell_type": "markdown",
      "metadata": {
        "id": "a5WOyHrhMe97"
      },
      "source": [
        "# Linear Models with TF"
      ]
    },
    {
      "cell_type": "markdown",
      "metadata": {
        "id": "d5bG5X_CMkP1"
      },
      "source": [
        "## Importing data\n",
        "\n",
        "* Pandas (Importing) + Numpy (array) -> TensorFlow (operations).\n",
        "\n",
        "\n",
        "\n",
        "```\n",
        "import numpy as np\n",
        "import pandas as pd\n",
        "import tensorflow as tf\n",
        "\n",
        "# Importing \n",
        "dataset = pd.read_csv('dataset.csv')\n",
        "\n",
        "# Converting to numpy array\n",
        "dataset = np.array(dataset)\n",
        "\n",
        "# Setting data type of a column\n",
        "\n",
        "# Option 1 using numpy\n",
        "dataset_column = np.array(dataset['dataset_column'],np.float32)\n",
        "\n",
        "# Option 2 using TF\n",
        "dataset_column = tf.cast(dataset['dataset_column'],tf.float32)\n",
        "```\n",
        "\n"
      ]
    },
    {
      "cell_type": "markdown",
      "metadata": {
        "id": "fAAc6fNcOnlY"
      },
      "source": [
        "## Loss funtions\n",
        "\n",
        "* Measure the loss (predicted - actual) of model.\n",
        "* Used to train a model and measure model fit.\n",
        "  * Higher value -> worse fit.\n",
        "    * Hence **minimize** the loss function ( gradient **descent** ).\n",
        "    * Can be tweaked using operation ( `-` if higher, `+` if lower gradient value).\n",
        "\n",
        "Types:\n",
        "\n",
        "1. Mean squared error (MSE)\n",
        "  *  `tf.keras.losses.mse(targets, predictions)`\n",
        "  *  High (gradient) sensitivity near minimum and strongly effected by outliers.\n",
        "\n",
        "2.   Mean absolute error (MAE)\n",
        "  *  `tf.keras.losses.mae(targets, predictions)`\n",
        "  * Low sensitivity near minimum.\n",
        "\n",
        "3.   Huber error\n",
        "  *  `tf.keras.losses.Huber(targets, predictions)`\n",
        "  *  Similar to MSE near min.\n",
        "  * Similar to MAE away from min.\n",
        "\n",
        "* For greater sensitivity near minimum (MSE or Huber loss).\n",
        "\n",
        "* Minimize impact of outliers ( MAE or Huber loss)\n",
        "\n",
        "\n",
        "Pipeline:\n",
        "\n",
        "model -> prediction -> loss function\n",
        "\n",
        "\n",
        "\n",
        "```\n",
        "def linear_regression(intercept, slope, features = features):\n",
        "  return intercept + features * slope\n",
        "\n",
        "def loss_function(intercept, slope, targets = targets, features = features)\n",
        "\n",
        "  # Compute predictions for a linear model\n",
        "  predictions = linear_regression(intercept, slope)\n",
        "\n",
        "  # return the loss\n",
        "  return tf.keras.losses.mse(targets, preductions)\n",
        "```\n",
        "\n"
      ]
    },
    {
      "cell_type": "markdown",
      "metadata": {
        "id": "mW1tLTuOfkkj"
      },
      "source": [
        "## Linear Regression\n",
        "\n",
        "* Assumes that relationship between features can be captured using a line (slope and intercept).\n",
        "\n",
        "Line equation : \n",
        "  \n",
        "    `y = mx + b`\n",
        "    prediction (y) = intercept(b) + feature(x) * slope(m) + error\n",
        "\n",
        "Features - Univariate (one) or Multivariate (more than one)\n",
        "\n",
        "  * Slope (`m`)\n",
        "    * Change in y % change in x. \n",
        "    * Change in slope of a line leads to change along the axis(x / y).\n",
        "  * Intercept (y - intercept `b`)   \n",
        "    * Line intersection point of axis ( y or x).\n",
        "    * Change in intercept of a line leads to change in the intersection point of line w.r.t x or y.\n",
        " \n"
      ]
    },
    {
      "cell_type": "code",
      "metadata": {
        "id": "W18ibRbhK97R",
        "outputId": "3f3bddb9-0180-4aa6-9070-8d033fa10968",
        "colab": {
          "base_uri": "https://localhost:8080/",
          "height": 202
        }
      },
      "source": [
        "# Target, Feature\n",
        "price = tf.random.uniform([10],minval= 1, maxval= 255, dtype ='float32')\n",
        "size = tf.random.uniform([10],minval= 1, maxval= 255, dtype ='float32')\n",
        "\n",
        "intercept = tf.Variable(0.1, np.float32)\n",
        "slope = tf.Variable(0.1,np.float32)\n",
        "\n",
        "# Linear regression model\n",
        "def linear_regression(intercept, slope, features = size):\n",
        "  return intercept + features * slope\n",
        "\n",
        "# Compute the predicted value and loss \n",
        "def loss_function(intercept, slope, targets = price, features = size):\n",
        "  predictions = linear_regression(intercept,slope)\n",
        "  \n",
        "  return tf.keras.losses.mse(targets, predictions)\n",
        "\n",
        "# Optimization algorithm - loss function evaluation in batches (`adam`)\n",
        "opt = tf.keras.optimizers.Adam()\n",
        "\n",
        "# Minimize the loss function and print the loss\n",
        "for j in range(10):\n",
        "  opt.minimize(lambda: loss_fuction(intercept, slope),\\\n",
        "  var_list=[intercept, slope])\n",
        "  print(loss_function(intercept, slope))\n",
        "\n",
        "print(intercept.numpy(), slope.numpy())"
      ],
      "execution_count": null,
      "outputs": [
        {
          "output_type": "stream",
          "text": [
            "tf.Tensor(13821.164, shape=(), dtype=float32)\n",
            "tf.Tensor(13796.982, shape=(), dtype=float32)\n",
            "tf.Tensor(13772.85, shape=(), dtype=float32)\n",
            "tf.Tensor(13748.763, shape=(), dtype=float32)\n",
            "tf.Tensor(13724.724, shape=(), dtype=float32)\n",
            "tf.Tensor(13700.734, shape=(), dtype=float32)\n",
            "tf.Tensor(13676.795, shape=(), dtype=float32)\n",
            "tf.Tensor(13652.906, shape=(), dtype=float32)\n",
            "tf.Tensor(13629.067, shape=(), dtype=float32)\n",
            "tf.Tensor(13605.281, shape=(), dtype=float32)\n",
            "0.10999474 0.1099946\n"
          ],
          "name": "stdout"
        }
      ]
    },
    {
      "cell_type": "markdown",
      "metadata": {
        "id": "SiubhJjPrdDR"
      },
      "source": [
        "## Batch training\n",
        "\n",
        "* Training in batches for large dataset (in-memory not applicable).\n",
        " \n",
        "* Update model weights and parameters after each batch rather than at the end of epoch.\n",
        "  * epoch - Single pass over all batches.\n",
        "\n",
        "```\n",
        "for batch in pd.read_csv('housing.csv', chunksize = 100):\n",
        "\n",
        "  # Extract the target and feature columns\n",
        "\n",
        "  # Minimize the loss function\n",
        "  opt = tf.keras.optimizers.Adam()\n",
        "\n",
        "  opt.minimize(lambda: loss_function(intercept_function(intercept, slope, target, features),var _list = [intercept,slope])\n",
        "```\n",
        "\n",
        "\n",
        "\n"
      ]
    },
    {
      "cell_type": "markdown",
      "metadata": {
        "id": "lMGif2XUxipV"
      },
      "source": [
        "# Neural Network in TF\n"
      ]
    },
    {
      "cell_type": "markdown",
      "metadata": {
        "id": "qFu-vbKUXpEe"
      },
      "source": [
        "## Neural Network"
      ]
    },
    {
      "cell_type": "markdown",
      "metadata": {
        "id": "DfrejUGouaQb"
      },
      "source": [
        "Neural Network architecture:\n",
        "    \n",
        "    Input(features) -> Dense hidden layer -> Dense hidden layer -> Output(prediction).\n",
        "\n",
        "Forward Propagation Pipeline between Layers:\n",
        "\n",
        "    Weighted_sum (IP_values, weights) [Linear Operation] + Activation function [Non-linear Operation]\n",
        "\n",
        "* Dense layer applies weights to all nodes from the previous layer.\n",
        "\n",
        "### Simple dense layer using low-level API\n",
        "\n",
        "```\n",
        "import tensorflow as tf\n",
        "\n",
        "# Inputs(feautures)\n",
        "inputs = tf.constant([[1,35]],dtype= tf.float32)\n",
        "\n",
        "# Weights\n",
        "weights = tf.Variable([[-0.05],[-0.01]],dtype= tf.float32)\n",
        "\n",
        "# Bias (similar to intercept in linear regression)\n",
        "bias = tf.Variable([0.5])\n",
        "\n",
        "# Weighted sum of inputs and weights\n",
        "product = tf.matmul(inputs,weights)\n",
        "\n",
        "# Define dense layer\n",
        "dense = tf.keras.activations.sigmoid(product+bias)\n",
        "```\n",
        "\n",
        "### Simple dense layer using high level API keras.dense\n",
        "\n",
        "```\n",
        "import tensorflow as tf\n",
        "\n",
        "inputs = tf.constant(data,tf.float32)\n",
        "\n",
        "# Dense (number of outgoing nodes, activation function)\n",
        "# By default Bias included\n",
        "# inputs passed as argument for first dense layer\n",
        "dense1 = tf.keras.layers.Dense(10,activation='sigmoid')(inputs)\n",
        "\n",
        "# Dense1 as input \n",
        "dense2 = tf.keras.layers.Dense(5,activation='sigmoid')(dense1)\n",
        "\n",
        "outputs = tf.keras.layers.Dense(1,activation='sigmoid')(dense2)\n",
        "```\n",
        "\n",
        "\n",
        "\n"
      ]
    },
    {
      "cell_type": "markdown",
      "metadata": {
        "id": "HLSZ5gLC4Ivf"
      },
      "source": [
        "### Neural Network Operations\n",
        "\n",
        "Forward Propagation between any two layers:\n",
        "\n",
        "1.   Matrix multiplication -> Linear Operation ( Fits a **straight line**)\n",
        "2.   Activation Function -> Non - Linear operation ( Makes the **line squiggle**)\n",
        "\n",
        "Refer : [Neural Network](https://www.youtube.com/watch?v=CqOfi41LfDw&ab_channel=StatQuestwithJoshStarmer)"
      ]
    },
    {
      "cell_type": "markdown",
      "metadata": {
        "id": "LCSXV51a4u9b"
      },
      "source": [
        "#### Matrix multiplication -> Linear Operation\n",
        "\n",
        "    Matrix Multiplication Rule = A(no. of columns) == B (no. of rows)\n",
        "    Resulting size == AB(A's No.of rows , B's No. of columns)\n",
        "\n",
        "*   Input layer Neurons == Column number of features in dataset  == size(1,Columns of features dataset )\n",
        "\n",
        "  Eg. Features = 3\n",
        "    \n",
        "    Input neurons = 3 neurons, size = ( 1 X 3 ) \n",
        "\n",
        "*   Hidden layer Neruons = arbitrary \n",
        "\n",
        "  Eg. Hidden layer = 4\n",
        "\n",
        "\n",
        "**Matrix Multiplication** :\n",
        "\n",
        "    Operation between any two connected layers can be represented by matrix multiplication.\n",
        "\n",
        "Eg.\n",
        "\n",
        "    Input Layer = (1,3) \n",
        "    Hidden Layer = (1,4)\n",
        "\n",
        "Left Matrix : Number of input neurons\n",
        "    \n",
        "    Size = (1,3) \n",
        "    1 - row \n",
        "    3 - column (number of input neurons)\n",
        "\n",
        "Right Matrix : Weight matrix\n",
        "\n",
        "    Size = (3,4)\n",
        "    3 - Number of input neurons\n",
        "    4 - Number of hidden nuerons\n",
        "\n",
        "Resulting Matrix :\n",
        "\n",
        "    Left Matrix (1,3) * Right Matrix (3,4) = 1,4 (Number of hidden layers)\n",
        "\n",
        "\n"
      ]
    },
    {
      "cell_type": "markdown",
      "metadata": {
        "id": "A_DhlWN-PhmZ"
      },
      "source": [
        "#### Activation Function -> Non-Linear Operation\n",
        "\n",
        "Activation function applied to the weighted sum to form a squiggly line. \n",
        "\n",
        "Three most common activation functions:\n",
        "\n",
        "\n",
        "1. Sigmoid Activation function \n",
        "  * Mostly used in Binary Classification.\n",
        "  * **Smooth curve** which outputs **probability** between 0 to 1.\n",
        "  * Commenly used in **output layer**.\n",
        "\n",
        "          Low-Level : tf.Keras.activations.sigmoid()\n",
        "          High-level : `sigmoid` as parameter to the dense layer.\n",
        "\n",
        "      f(x) = 1/(1+np.exp(-x))\n",
        "\n",
        "\n",
        "2.   ReLu (Rectifier Linear Unit) activation function:\n",
        "\n",
        "  * Commenly used in **hidden layers**.\n",
        "      \n",
        "            Low-level : tf.keras.activations.relu()\n",
        "            High-level: `relu` as parameter to the dense layer.\n",
        "      f(x) = np.maximum(0,x)  \n",
        "\n",
        "\n",
        "3.    Softmax activation function\n",
        "\n",
        "  * Commenly used in **output layer** for multi class classification. (>2 classes)\n",
        "  * **Outputs probability** between 0 to 1 and ensures that the **sum of outputs** of the multiclasses is **1**.\n",
        "\n",
        "            Low-level : tf.keras.activations.softmax()\n",
        "            High-level: `softmax` as parameter to the dense layer.\n",
        "            \n",
        "\n",
        "\n",
        "\n",
        "\n",
        "\n"
      ]
    },
    {
      "cell_type": "markdown",
      "metadata": {
        "id": "4CcPLjyS6lSb"
      },
      "source": [
        "#### Optimization \n",
        "\n",
        "Optimizer is the process of finding weights which results in **minimum loss value.**\n",
        "\n",
        "AKA Minimization \n",
        "\n",
        "**Thought Experiment** : Finding the lowest point in Grand Canyon using hill climbing algorithm.\n",
        "\n",
        "    Pick a point (weight) -> measure the elevation (loss) -> compare with neighbour points (new weight) -> go donwhill (repeat)\n",
        "\n",
        "*  Gradient Descent:\n",
        "\n",
        "  * Goal: Minimise the loss.\n",
        "  * Done by taking the derivatives of the point of the curve / function (Mean Square Error), \"x- axis predictions, y - axis MSE\" and try to find the global minima [= 0].\n",
        "\n",
        "          Derivative used to find the slope [rate of change of 'y' w.r.t 'x'] of a point in a curve.  \n",
        "          Derivative (point) : Slope of tangent line drawn at point.\n",
        "  \n",
        "*  Types of optmization algorithms:\n",
        "  1.   Batch Gradient Descent \n",
        "      * Compute derivative/ gradient of loss/cost function for the **entire batch training dataset** and then update weights.\n",
        "      * Repeat untill global minimum (min loss).\n",
        "      * Not preferable for large D.S\n",
        "  2.   Stochastic Gradient Descent\n",
        "      * Compute derivative/ gradient of loss/cost function **for each training data**. \n",
        "      * Repeat untill global minimum (min loss).\n",
        "      * Stochastic (Non - deterministic)\n",
        "              tf.keras.optimizers.SGD()\n",
        "              learning_rate : 0.5 - 0.01 (Rate at which model parameters are adjusted during training.)\n",
        "  3.   Mini Batch Gradient Descent\n",
        "      * Compute derivative/ gradient of loss/cost function for the **mini batches training dataset** and then update weights.\n",
        "  4. RMS propogation Optimizer\n",
        "      * Root mean squared optimizer.\n",
        "      * Applies different learning rates to each feature usefull for high dimentional problems.\n",
        "      * Allow for momentum to both build and decay.\n",
        "\n",
        "            momentum : To deal with local minima problem of SGD. \n",
        "            Contd. Eg: Pushing the ball donwhill with momentum, by accumulation rolls donwhill faster.\n",
        "  5. adam optimizer \n",
        "      * Adaptive moment optimizer\n",
        "      * Performs well with default parameters.\n",
        "            tf.keras.optimizers.Adam()\n",
        "            learning_rate\n",
        "            beta1 : can be set to decay momentum\n",
        "\n",
        "\n"
      ]
    },
    {
      "cell_type": "markdown",
      "metadata": {
        "id": "tYmvKBGlki48"
      },
      "source": [
        "### Training Nueral Networks in TensorFlow"
      ]
    },
    {
      "cell_type": "markdown",
      "metadata": {
        "id": "LVSQYWQrkwdQ"
      },
      "source": [
        " Dealing with Initial values of weights:\n",
        " \n",
        " * Draw initial values from distribution \n",
        "    * Normal \n",
        "    * Uniform \n",
        "    * Glorot initializers "
      ]
    },
    {
      "cell_type": "code",
      "metadata": {
        "id": "0h-j0mkg1Ev-"
      },
      "source": [
        "# Low level approach to initialize 500x500 variable \n",
        "  \n",
        "import tensorflow as tf\n",
        "\n",
        "# 500x500 random normal variable\n",
        "weights_normal = tf.Variable(tf.random.normal([500,500]))\n",
        "\n",
        "# 500x500 truncated random normal variable \n",
        "weights_truncated = tf.Variable(tf.random.truncated_normal([500,500]))"
      ],
      "execution_count": 6,
      "outputs": []
    },
    {
      "cell_type": "code",
      "metadata": {
        "id": "IoqfgZMzmaWX",
        "outputId": "3f382051-69a4-48e8-bd69-6604f7162049",
        "colab": {
          "base_uri": "https://localhost:8080/"
        }
      },
      "source": [
        "weights_normal"
      ],
      "execution_count": 8,
      "outputs": [
        {
          "output_type": "execute_result",
          "data": {
            "text/plain": [
              "<tf.Variable 'Variable:0' shape=(500, 500) dtype=float32, numpy=\n",
              "array([[-1.2480363 , -2.292366  , -0.63206196, ..., -1.7451301 ,\n",
              "        -0.20906089,  0.45854604],\n",
              "       [-0.8091129 ,  0.24590641, -0.9412902 , ...,  1.8631638 ,\n",
              "         0.57407117, -0.27134663],\n",
              "       [-0.5841194 , -1.082245  , -0.37367636, ...,  0.8627299 ,\n",
              "        -0.57245994,  1.0248055 ],\n",
              "       ...,\n",
              "       [-1.1123266 , -0.19358727,  0.24525507, ..., -0.34498692,\n",
              "        -0.24334176, -0.43906844],\n",
              "       [ 0.03358743,  0.4026333 ,  1.0599698 , ...,  1.676031  ,\n",
              "         0.1863243 , -1.1629074 ],\n",
              "       [-0.50771445,  1.0665998 , -0.36871105, ...,  0.42615455,\n",
              "        -0.14715879,  2.3443434 ]], dtype=float32)>"
            ]
          },
          "metadata": {
            "tags": []
          },
          "execution_count": 8
        }
      ]
    },
    {
      "cell_type": "code",
      "metadata": {
        "id": "ys94e86emefe"
      },
      "source": [
        "# Using high-level keras\n",
        "\n",
        "# Dense layer with default initilizer\n",
        "dense = tf.keras.layers.Dense(32, activation = 'relu', kernel_initializer= 'glorot_uniform')\n",
        "\n",
        "# Dense layer with zero initializer\n",
        "dense = tf.keras.layers.Dense(32, activation='relu', kernel_initializer= 'zeros')"
      ],
      "execution_count": 10,
      "outputs": []
    },
    {
      "cell_type": "code",
      "metadata": {
        "id": "nPOvIPcTmr3J",
        "outputId": "a0de3bcb-1155-41eb-f890-07f557a6941c",
        "colab": {
          "base_uri": "https://localhost:8080/"
        }
      },
      "source": [
        "dense"
      ],
      "execution_count": 12,
      "outputs": [
        {
          "output_type": "execute_result",
          "data": {
            "text/plain": [
              "<tensorflow.python.keras.layers.core.Dense at 0x7f3042715390>"
            ]
          },
          "metadata": {
            "tags": []
          },
          "execution_count": 12
        }
      ]
    },
    {
      "cell_type": "markdown",
      "metadata": {
        "id": "33t03yYXohYz"
      },
      "source": [
        "Dealing with Overfitting :\n",
        "\n",
        "* Apply `dropout` that will  randomly drop weights connected to certain nodes in a layer during training process.\n",
        "* Improves 'out of sample' performance.\n",
        "* Apply drop out layers before the output layer.\n",
        "\n",
        "      # Dropout 25 % of weights connected to nodes randomly \n",
        "      dropout =  tf.keras.layers.Dropout(0.25)(dense2)\n",
        "\n",
        "\n",
        "\n",
        "```\n",
        "import tensorflow as tf\n",
        "import numpy as np\n",
        "\n",
        "\n",
        "# Input data\n",
        "inputs = np.array(\"features\",np.float32)\n",
        "\n",
        "# Dense layer 1\n",
        "dense1 = tf.keras.layers.Dense(32,activation='relu')(inputs)\n",
        "\n",
        "# Dense layer 2\n",
        "dense2 = tf.keras.layers.Dense(16,activation='relu')(dense1)\n",
        "\n",
        "# Dropout operation\n",
        "dropout1 = tf.keras.layers.Dropout(0.25)(dense2)\n",
        "\n",
        "# Output layer\n",
        "outputs = tf.keras.layers.Dense(1,activation='sigmoid')(dropout1)\n",
        "```\n",
        "\n",
        "\n",
        "\n"
      ]
    },
    {
      "cell_type": "markdown",
      "metadata": {
        "id": "5SmvYV871BjJ"
      },
      "source": [
        "### Defining Neural Network with Keras Sequential and Functional API"
      ]
    },
    {
      "cell_type": "markdown",
      "metadata": {
        "id": "BB4uruJ5yQWD"
      },
      "source": [
        "Generic pipeline of training and evaluation :\n",
        "\n",
        "\n",
        "\n",
        "1.   Load and clean data\n",
        "2.   Define model\n",
        "3.   Train and validate model\n",
        "4.   Evaluate model\n",
        "\n"
      ]
    },
    {
      "cell_type": "markdown",
      "metadata": {
        "id": "Vqh1movn1NmI"
      },
      "source": [
        "#### NN with Keras Sequential API\n",
        "\n",
        "1. Define sequential model.\n",
        "2. Add input layer to model. \n",
        "3. Add hidden layers to model.\n",
        "4. Add output layer to model.\n",
        "\n"
      ]
    },
    {
      "cell_type": "code",
      "metadata": {
        "id": "lOJIQyDLoTc4",
        "outputId": "f32f228a-2622-4a83-ddae-a002cf069da8",
        "colab": {
          "base_uri": "https://localhost:8080/",
          "height": 674
        }
      },
      "source": [
        "from tensorflow import keras\n",
        "\n",
        "# Defining a sequential model\n",
        "model1 = keras.Sequential()\n",
        "\n",
        "# Add first input layer \n",
        "model1.add(keras.layers.Dense( 16, activation= 'relu', input_shape =(28*28,)))\n",
        "\n",
        "# Add hidden layer\n",
        "model1.add(keras.layers.Dense(8,activation='relu'))\n",
        "\n",
        "# Add output layer \n",
        "model1.add(keras.layers.Dense(4,activation='softmax'))\n",
        "\n",
        "# Compilation of the NN with optimizer and loss funtion \n",
        "model1.compile('adam', loss = 'categorical_crossentropy') # loss funtion used in multi class classification\n",
        "\n",
        "print(model1.summary())\n",
        "tf.keras.utils.plot_model(model1, show_shapes=True)"
      ],
      "execution_count": 7,
      "outputs": [
        {
          "output_type": "stream",
          "text": [
            "Model: \"sequential_4\"\n",
            "_________________________________________________________________\n",
            "Layer (type)                 Output Shape              Param #   \n",
            "=================================================================\n",
            "dense_16 (Dense)             (None, 16)                12560     \n",
            "_________________________________________________________________\n",
            "dense_17 (Dense)             (None, 8)                 136       \n",
            "_________________________________________________________________\n",
            "dense_18 (Dense)             (None, 4)                 36        \n",
            "=================================================================\n",
            "Total params: 12,732\n",
            "Trainable params: 12,732\n",
            "Non-trainable params: 0\n",
            "_________________________________________________________________\n",
            "None\n"
          ],
          "name": "stdout"
        },
        {
          "output_type": "execute_result",
          "data": {
            "image/png": "[encoded data removed]",
            "text/plain": [
              "<IPython.core.display.Image object>"
            ]
          },
          "metadata": {
            "tags": []
          },
          "execution_count": 7
        }
      ]
    },
    {
      "cell_type": "markdown",
      "metadata": {
        "id": "5uzt9iCz4Ii_"
      },
      "source": [
        "#### NN with Keras Functional API\n",
        "\n",
        "* Flexibility of connecting arbitrary layers.\n",
        "\n",
        "* Training two models possible with funtional API.\n",
        "\n",
        "Eg. sesame neural network (Comparing two outputs for classfication)\n",
        "\n",
        "Model_1 : To predict the class of an image.\n",
        "\n",
        "Model_2 : To predict the metadata of the image.\n",
        "\n",
        "**Note** : Previous layer should be passed as input to the current layer for connection.\n",
        "\n"
      ]
    },
    {
      "cell_type": "code",
      "metadata": {
        "id": "DAAg7_y0v8ET",
        "outputId": "c034b2ba-144c-4750-e635-f1b26bb0c3b0",
        "colab": {
          "base_uri": "https://localhost:8080/",
          "height": 826
        }
      },
      "source": [
        "import tensorflow as tf\n",
        "\n",
        "# Define model 1 input layer\n",
        "model1_inputs = tf.keras.Input(shape=(28*28,))\n",
        "\n",
        "# Define model 2 input layer\n",
        "model2_inputs = tf.keras.Input(shape=(10,))\n",
        "\n",
        "# Layer 1 for model 1\n",
        "model1_layer1 = tf.keras.layers.Dense(12,activation='relu')(model1_inputs)\n",
        "\n",
        "# Layer 2 for model 1\n",
        "model1_layer2 = tf.keras.layers.Dense(4,activation='softmax')(model1_layer1)\n",
        "\n",
        "# Layer 1 for model 2\n",
        "model2_layer1 = tf.keras.layers.Dense(12,activation='relu')(model2_inputs)\n",
        "\n",
        "# Layer 2 for model 2\n",
        "model2_layer2 = tf.keras.layers.Dense(4,activation='softmax')(model2_layer1)\n",
        "\n",
        "# Merge model1 and model2\n",
        "merged = tf.keras.layers.add([model1_layer2,model2_layer2])\n",
        "\n",
        "# Define a functional model\n",
        "model = tf.keras.Model(inputs = [model1_inputs,model2_inputs], outputs = merged)\n",
        "\n",
        "# Compile the model\n",
        "model.compile('adam',loss = 'categorical_crossentropy')\n",
        "\n",
        "print(model.summary())\n",
        "tf.keras.utils.plot_model(model, show_shapes=True)"
      ],
      "execution_count": 8,
      "outputs": [
        {
          "output_type": "stream",
          "text": [
            "Model: \"functional_3\"\n",
            "__________________________________________________________________________________________________\n",
            "Layer (type)                    Output Shape         Param #     Connected to                     \n",
            "==================================================================================================\n",
            "input_3 (InputLayer)            [(None, 784)]        0                                            \n",
            "__________________________________________________________________________________________________\n",
            "input_4 (InputLayer)            [(None, 10)]         0                                            \n",
            "__________________________________________________________________________________________________\n",
            "dense_19 (Dense)                (None, 12)           9420        input_3[0][0]                    \n",
            "__________________________________________________________________________________________________\n",
            "dense_21 (Dense)                (None, 12)           132         input_4[0][0]                    \n",
            "__________________________________________________________________________________________________\n",
            "dense_20 (Dense)                (None, 4)            52          dense_19[0][0]                   \n",
            "__________________________________________________________________________________________________\n",
            "dense_22 (Dense)                (None, 4)            52          dense_21[0][0]                   \n",
            "__________________________________________________________________________________________________\n",
            "add_1 (Add)                     (None, 4)            0           dense_20[0][0]                   \n",
            "                                                                 dense_22[0][0]                   \n",
            "==================================================================================================\n",
            "Total params: 9,656\n",
            "Trainable params: 9,656\n",
            "Non-trainable params: 0\n",
            "__________________________________________________________________________________________________\n",
            "None\n"
          ],
          "name": "stdout"
        },
        {
          "output_type": "execute_result",
          "data": {
            "image/png": "[encoded data removed]",
            "text/plain": [
              "<IPython.core.display.Image object>"
            ]
          },
          "metadata": {
            "tags": []
          },
          "execution_count": 8
        }
      ]
    },
    {
      "cell_type": "markdown",
      "metadata": {
        "id": "J-nkqtKnyErr"
      },
      "source": [
        "### Training and Evaluation with Keras"
      ]
    },
    {
      "cell_type": "markdown",
      "metadata": {
        "id": "GZMBsOrNy6nJ"
      },
      "source": [
        "#### Training\n",
        "\n"
      ]
    },
    {
      "cell_type": "markdown",
      "metadata": {
        "id": "Z0kngY6ey-YB"
      },
      "source": [
        "Train model:\n",
        "    \n",
        "      model.fit(image_features,image_labels)\n",
        "\n",
        "Required arguments:\n",
        "\n",
        "* Features\n",
        "* labels\n",
        "\n",
        "Optional arguments:\n",
        "\n",
        "* Batch_size \n",
        "    * Number of training examples used in training (learning).\n",
        "        * Entire training set.\n",
        "        * Each training example.\n",
        "        * mini batches of training set.\n",
        "    * Default size = 32.\n",
        "    * **Weights updated** after each batch of training.\n",
        "\n",
        "* Epochs\n",
        "    * Number of times each batch_size is trained for learning.\n",
        "    * Using multiple epochs will make the model revisit the same batches with **different hyper parameters** ( used to control learing process) to reduce loss.\n",
        "\n",
        "* Validation_split\n",
        "  * Divides the training data into train and validation set.\n",
        "        # Train model with 20% validation split\n",
        "        model.fit(features, labels, epochs=10, validation_split =0.20)\n",
        "  * Usefull to assess the data trained on the new validation set.\n",
        "\n",
        "        Training loss < validation loss => Overfitting.\n",
        "  \n",
        "  * Add metrics such as accuracy to measure performance on validation set.\n",
        "\n",
        "        # Recompile the model with the accuracy metrics\n",
        "        model.compile('adam',loss = 'categorical_crossentropy',metrics=['accuracy'])\n",
        "        \n",
        "        # Train model with validation split\n",
        "        model.fit(features, labels, epochs=10, validation_split =0.20)\n",
        "\n"
      ]
    },
    {
      "cell_type": "markdown",
      "metadata": {
        "id": "Os-YRSSJNtmY"
      },
      "source": [
        "#### Evaluation "
      ]
    },
    {
      "cell_type": "markdown",
      "metadata": {
        "id": "W3f1zu-lNxyl"
      },
      "source": [
        "Evaluate the model on test set\n",
        "\n",
        "      model.evaluate(test)"
      ]
    },
    {
      "cell_type": "markdown",
      "metadata": {
        "id": "PLPd7xpmOBB6"
      },
      "source": [
        "### Training models withh Estimator API"
      ]
    },
    {
      "cell_type": "markdown",
      "metadata": {
        "id": "6gQVqU6EObua"
      },
      "source": [
        "Estimators API:\n",
        "\n",
        "* High-level TensorFlow API submodule.\n",
        "* Less Flexible.\n",
        "  * Enforces best practices for model architecture and training.\n",
        "* Faster deployment (less code)\n",
        "* Many premade models \n"
      ]
    },
    {
      "cell_type": "markdown",
      "metadata": {
        "id": "LBSw1FsYPK0g"
      },
      "source": [
        "Model specification and training pipeline:\n",
        "\n",
        "1. Define feature columns (type,size)\n",
        "2. Load and transform data within a function as dictionary of features, labels.\n",
        "3. Define an estimator (premade/custom)\n",
        "4. Apply trian, validate, evaluate operation.\n",
        "\n",
        "\n",
        "\n",
        "```\n",
        "import tensorflow as tf\n",
        "\n",
        "# Numeric feature column \"size\" (Dictionary key)\n",
        "# Done for every feature \n",
        "size = tf.feature_column.numeric_column(\"size\") \n",
        "\n",
        "# Categorical feature column\n",
        "rooms = tf.feature_column.categorical_column_with_vocabulary_list(\"rooms\",\\\n",
        "[\"1\",\"2\",\"3\",\"4\",\"5\"])\n",
        "\n",
        "# Merge as feature_list\n",
        "feature_list = [size,rooms]\n",
        "\n",
        "# Input data function dictionary (feature,labels) \n",
        "def input_fn():\n",
        "\n",
        "  # Define feature dictionary (which maps to feature columns defined)\n",
        "  features = {\"size\": [123,123,12312],\"rooms\":[1,3,4]}\n",
        "\n",
        "  # define labels\n",
        "  labels= [21213123,111134,980000]\n",
        "\n",
        "  # Define labels\n",
        "  return features, labels\n",
        "\n",
        "# Define the estimator for training\n",
        "# Deep neural network regression for continuous variables with hidden layers and output layer\n",
        "model  tf.estimator.DNNRegressor(feature_columns=feature_list,\\\n",
        "        hidden_units=[10,6,6,3])\n",
        "\n",
        "# Deep neural network classifier with 4 classes\n",
        "model 1 = tf.estimator.DNNClassifier(feature_columns= feature_list,\\\n",
        "          hidden_units=[32,16,8], n_classes=4)\n",
        "\n",
        "#Train the model\n",
        "model.train(input_fn, steps=20)\n",
        "\n",
        "```\n",
        "\n"
      ]
    }
  ]
}